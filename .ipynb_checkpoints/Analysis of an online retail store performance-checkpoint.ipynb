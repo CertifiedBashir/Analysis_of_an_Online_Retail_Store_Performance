{
 "cells": [
  {
   "cell_type": "markdown",
   "metadata": {
    "id": "0gH6Sm1OgDo0"
   },
   "source": [
    "# Analysis of an Online Retail Store Performance\n",
    "\n",
    "> **BY ABDULRAHEEM BASHIR**\n",
    "\n",
    "## Table of Contents\n",
    "<ul>\n",
    "<li><a href=\"#intro\">Introduction</a></li>\n",
    "<li><a href=\"#import\">Importing required files and libraries</a></li>\n",
    "<li><a href=\"#invest\">Data Inspection</a></li>\n",
    "<li><a href=\"#clean\">Data Cleaning</a></li>\n",
    "<li><a href=\"#check\">Sanity Check After Data Cleaning</a></li>\n",
    "<li><a href=\"#explore\">Data Exploration</a></li>\n",
    "<li><a href=\"#rec\">Recommendations</a></li>\n",
    "</ul>"
   ]
  },
  {
   "cell_type": "markdown",
   "metadata": {},
   "source": [
    "<a id='intro'></a>\n",
    "## Introduction"
   ]
  },
  {
   "cell_type": "markdown",
   "metadata": {},
   "source": [
    "> This project was inspired by a data gotten from virtual experience programme provided by Tata iQ(Tata Insights and Quants)\n",
    "\n",
    "**About Data**\n",
    "\n",
    "The dataset is a transnational data set which contains all the transactions occurring between 01/12/2010 and 09/12/2011 for a UK-based and registered non-store online retail. The company mainly sells unique all-occasion gifts. Many customers of the company are wholesalers.\n",
    "\n",
    "**Background info and context**\n",
    "\n",
    "The online retail store wants to review their data and provide insights that would be valuable to the CEO and CMO of the business. The business has been performing well and the management wants to analyse the data so they can strategically plan for next year.\n",
    "\n",
    "The CEO and CMO want some analysis and visuals that would help answer their questions. Both, the executives are interested in viewing and understanding how they can use the data to make more meaningful decisions on creating an expansion strategy of their retail store.\n",
    "\n",
    "**Executives Questions:** The executives would like you to answer the following questions:\n",
    "1. The CEO of the retail store is interested to view the time series of the revenue data for the year 2011 only. He would like to view granular data by looking into revenue for each month. The CEO is interested in viewing the seasonal trends and wants to dig deeper into why these trends occur. This analysis will be helpful for the CEO to forecast for the next year.\n",
    "2. The CMO is interested in viewing the top 10 countries which are generating the highest revenue. Additionally, the CMO is also interested in viewing the quantity sold along with the revenue generated. The CMO does not want to have the United Kingdom in this visual.\n",
    "3. The CMO of the online retail store wants to view the information on the top 10 customers by revenue. He is interested in a visual that shows the greatest revenue generating customer at the start and gradually declines to the lower revenue generating customers. The CMO wants to target the higher revenue generating customers and ensure that they remain satisfied with their products.\n",
    "4. The CEO is looking to gain insights on the demand for their products. He wants to look at all countries and see which regions have the greatest demand for their products. Once the CEO gets an idea of the regions that have high demand, he will initiate an expansion strategy which will allow the company to target these areas and generate more business from these regions. He wants to view the entire data on a single view without the need to scroll or hover over the data points to identify the demand. There is no need to show data for the United Kingdom as the CEO is more interested in viewing the countries that have expansion opportunities.\n",
    "\n",
    "**Dataset:** The dataset contains one row for each transaction. The dataset(Online Retail Data Set) can be downloaded from kaggle.\n",
    "\n",
    "**Attribute Information:** The following are the dataset descriptions:\n",
    "- **InvoiceNo:** Invoice number. Nominal, a 6-digit integral number uniquely assigned to each transaction. If this code starts with letter 'c', it indicates a cancellation.\n",
    "- **StockCode:** Product (item) code. Nominal, a 5-digit integral number uniquely assigned to each distinct product.\n",
    "- **Description:** Product (item) name. Nominal.\n",
    "- **Quantity:** The quantities of each product (item) per transaction. Numeric.\n",
    "- **InvoiceDate:** Invice Date and time. Numeric, the day and time when each transaction was generated.\n",
    "- **UnitPrice:** Unit price. Numeric, Product price per unit in sterling.\n",
    "- **CustomerID:** Customer number. Nominal, a 5-digit integral number uniquely assigned to each customer.\n",
    "- **Country:** Country name. Nominal, the name of the country where each customer resides.\n",
    "\n",
    "I will be providing insights base on the executives questions which they can use to create the expansion strategy. This will help executives understand the trends and the breakdown by different categories so that they have clarity on how the revenue is being generated and what are the main factors affecting the online store."
   ]
  },
  {
   "cell_type": "markdown",
   "metadata": {},
   "source": [
    "<a id='import'></a>\n",
    "## Importing files and libraries\n",
    "> In this section, I will be Importing required files and libraries"
   ]
  },
  {
   "cell_type": "code",
   "execution_count": 1,
   "metadata": {
    "ExecuteTime": {
     "end_time": "2023-12-25T19:45:58.772277Z",
     "start_time": "2023-12-25T19:45:52.373524Z"
    },
    "id": "hdXm_cGCZCpH"
   },
   "outputs": [],
   "source": [
    "# importing all necessary packages\n",
    "\n",
    "import pandas as pd\n",
    "import numpy as np\n",
    "import matplotlib.pyplot as plt\n",
    "import seaborn as sns\n",
    "import warnings\n",
    "warnings.filterwarnings('ignore')"
   ]
  },
  {
   "cell_type": "code",
   "execution_count": 2,
   "metadata": {
    "ExecuteTime": {
     "end_time": "2023-12-25T19:46:01.973003Z",
     "start_time": "2023-12-25T19:46:01.967861Z"
    }
   },
   "outputs": [],
   "source": [
    "# Setting up the cells to display all Columns and rows\n",
    "\n",
    "pd.set_option('display.max_columns', None)\n",
    "pd.set_option('display.max_rows', None)"
   ]
  },
  {
   "cell_type": "code",
   "execution_count": 3,
   "metadata": {
    "ExecuteTime": {
     "end_time": "2023-12-25T19:49:00.050707Z",
     "start_time": "2023-12-25T19:46:03.901556Z"
    },
    "id": "bKlC6ANMa8DQ"
   },
   "outputs": [],
   "source": [
    "# Reading the csv file\n",
    "# saving it as a dataframe with the name data\n",
    "\n",
    "data = pd.read_excel('Online Retail.xlsx')"
   ]
  },
  {
   "cell_type": "markdown",
   "metadata": {},
   "source": [
    "<a id='invest'></a>\n",
    "## Data Inspection\n",
    "> In this section, I will be scanning through the data so as to figure out the cleaning necessary on the data."
   ]
  },
  {
   "cell_type": "code",
   "execution_count": 4,
   "metadata": {
    "ExecuteTime": {
     "end_time": "2023-12-25T19:51:11.008420Z",
     "start_time": "2023-12-25T19:51:10.979835Z"
    },
    "colab": {
     "base_uri": "https://localhost:8080/",
     "height": 206
    },
    "id": "Wp8xAJzcfUjK",
    "outputId": "1ffc4079-bf33-4526-b836-cd0788769d70"
   },
   "outputs": [
    {
     "data": {
      "text/html": [
       "<div>\n",
       "<style scoped>\n",
       "    .dataframe tbody tr th:only-of-type {\n",
       "        vertical-align: middle;\n",
       "    }\n",
       "\n",
       "    .dataframe tbody tr th {\n",
       "        vertical-align: top;\n",
       "    }\n",
       "\n",
       "    .dataframe thead th {\n",
       "        text-align: right;\n",
       "    }\n",
       "</style>\n",
       "<table border=\"1\" class=\"dataframe\">\n",
       "  <thead>\n",
       "    <tr style=\"text-align: right;\">\n",
       "      <th></th>\n",
       "      <th>InvoiceNo</th>\n",
       "      <th>StockCode</th>\n",
       "      <th>Description</th>\n",
       "      <th>Quantity</th>\n",
       "      <th>InvoiceDate</th>\n",
       "      <th>UnitPrice</th>\n",
       "      <th>CustomerID</th>\n",
       "      <th>Country</th>\n",
       "    </tr>\n",
       "  </thead>\n",
       "  <tbody>\n",
       "    <tr>\n",
       "      <th>0</th>\n",
       "      <td>536365</td>\n",
       "      <td>85123A</td>\n",
       "      <td>WHITE HANGING HEART T-LIGHT HOLDER</td>\n",
       "      <td>6</td>\n",
       "      <td>2010-12-01 08:26:00</td>\n",
       "      <td>2.55</td>\n",
       "      <td>17850.0</td>\n",
       "      <td>United Kingdom</td>\n",
       "    </tr>\n",
       "    <tr>\n",
       "      <th>1</th>\n",
       "      <td>536365</td>\n",
       "      <td>71053</td>\n",
       "      <td>WHITE METAL LANTERN</td>\n",
       "      <td>6</td>\n",
       "      <td>2010-12-01 08:26:00</td>\n",
       "      <td>3.39</td>\n",
       "      <td>17850.0</td>\n",
       "      <td>United Kingdom</td>\n",
       "    </tr>\n",
       "    <tr>\n",
       "      <th>2</th>\n",
       "      <td>536365</td>\n",
       "      <td>84406B</td>\n",
       "      <td>CREAM CUPID HEARTS COAT HANGER</td>\n",
       "      <td>8</td>\n",
       "      <td>2010-12-01 08:26:00</td>\n",
       "      <td>2.75</td>\n",
       "      <td>17850.0</td>\n",
       "      <td>United Kingdom</td>\n",
       "    </tr>\n",
       "    <tr>\n",
       "      <th>3</th>\n",
       "      <td>536365</td>\n",
       "      <td>84029G</td>\n",
       "      <td>KNITTED UNION FLAG HOT WATER BOTTLE</td>\n",
       "      <td>6</td>\n",
       "      <td>2010-12-01 08:26:00</td>\n",
       "      <td>3.39</td>\n",
       "      <td>17850.0</td>\n",
       "      <td>United Kingdom</td>\n",
       "    </tr>\n",
       "    <tr>\n",
       "      <th>4</th>\n",
       "      <td>536365</td>\n",
       "      <td>84029E</td>\n",
       "      <td>RED WOOLLY HOTTIE WHITE HEART.</td>\n",
       "      <td>6</td>\n",
       "      <td>2010-12-01 08:26:00</td>\n",
       "      <td>3.39</td>\n",
       "      <td>17850.0</td>\n",
       "      <td>United Kingdom</td>\n",
       "    </tr>\n",
       "  </tbody>\n",
       "</table>\n",
       "</div>"
      ],
      "text/plain": [
       "  InvoiceNo StockCode                          Description  Quantity  \\\n",
       "0    536365    85123A   WHITE HANGING HEART T-LIGHT HOLDER         6   \n",
       "1    536365     71053                  WHITE METAL LANTERN         6   \n",
       "2    536365    84406B       CREAM CUPID HEARTS COAT HANGER         8   \n",
       "3    536365    84029G  KNITTED UNION FLAG HOT WATER BOTTLE         6   \n",
       "4    536365    84029E       RED WOOLLY HOTTIE WHITE HEART.         6   \n",
       "\n",
       "          InvoiceDate  UnitPrice  CustomerID         Country  \n",
       "0 2010-12-01 08:26:00       2.55     17850.0  United Kingdom  \n",
       "1 2010-12-01 08:26:00       3.39     17850.0  United Kingdom  \n",
       "2 2010-12-01 08:26:00       2.75     17850.0  United Kingdom  \n",
       "3 2010-12-01 08:26:00       3.39     17850.0  United Kingdom  \n",
       "4 2010-12-01 08:26:00       3.39     17850.0  United Kingdom  "
      ]
     },
     "execution_count": 4,
     "metadata": {},
     "output_type": "execute_result"
    }
   ],
   "source": [
    "# displaying few top rows from the dataframe\n",
    "\n",
    "data.head()"
   ]
  },
  {
   "cell_type": "code",
   "execution_count": 5,
   "metadata": {
    "ExecuteTime": {
     "end_time": "2023-12-25T19:51:22.155561Z",
     "start_time": "2023-12-25T19:51:22.132672Z"
    }
   },
   "outputs": [
    {
     "data": {
      "text/html": [
       "<div>\n",
       "<style scoped>\n",
       "    .dataframe tbody tr th:only-of-type {\n",
       "        vertical-align: middle;\n",
       "    }\n",
       "\n",
       "    .dataframe tbody tr th {\n",
       "        vertical-align: top;\n",
       "    }\n",
       "\n",
       "    .dataframe thead th {\n",
       "        text-align: right;\n",
       "    }\n",
       "</style>\n",
       "<table border=\"1\" class=\"dataframe\">\n",
       "  <thead>\n",
       "    <tr style=\"text-align: right;\">\n",
       "      <th></th>\n",
       "      <th>InvoiceNo</th>\n",
       "      <th>StockCode</th>\n",
       "      <th>Description</th>\n",
       "      <th>Quantity</th>\n",
       "      <th>InvoiceDate</th>\n",
       "      <th>UnitPrice</th>\n",
       "      <th>CustomerID</th>\n",
       "      <th>Country</th>\n",
       "    </tr>\n",
       "  </thead>\n",
       "  <tbody>\n",
       "    <tr>\n",
       "      <th>541904</th>\n",
       "      <td>581587</td>\n",
       "      <td>22613</td>\n",
       "      <td>PACK OF 20 SPACEBOY NAPKINS</td>\n",
       "      <td>12</td>\n",
       "      <td>2011-12-09 12:50:00</td>\n",
       "      <td>0.85</td>\n",
       "      <td>12680.0</td>\n",
       "      <td>France</td>\n",
       "    </tr>\n",
       "    <tr>\n",
       "      <th>541905</th>\n",
       "      <td>581587</td>\n",
       "      <td>22899</td>\n",
       "      <td>CHILDREN'S APRON DOLLY GIRL</td>\n",
       "      <td>6</td>\n",
       "      <td>2011-12-09 12:50:00</td>\n",
       "      <td>2.10</td>\n",
       "      <td>12680.0</td>\n",
       "      <td>France</td>\n",
       "    </tr>\n",
       "    <tr>\n",
       "      <th>541906</th>\n",
       "      <td>581587</td>\n",
       "      <td>23254</td>\n",
       "      <td>CHILDRENS CUTLERY DOLLY GIRL</td>\n",
       "      <td>4</td>\n",
       "      <td>2011-12-09 12:50:00</td>\n",
       "      <td>4.15</td>\n",
       "      <td>12680.0</td>\n",
       "      <td>France</td>\n",
       "    </tr>\n",
       "    <tr>\n",
       "      <th>541907</th>\n",
       "      <td>581587</td>\n",
       "      <td>23255</td>\n",
       "      <td>CHILDRENS CUTLERY CIRCUS PARADE</td>\n",
       "      <td>4</td>\n",
       "      <td>2011-12-09 12:50:00</td>\n",
       "      <td>4.15</td>\n",
       "      <td>12680.0</td>\n",
       "      <td>France</td>\n",
       "    </tr>\n",
       "    <tr>\n",
       "      <th>541908</th>\n",
       "      <td>581587</td>\n",
       "      <td>22138</td>\n",
       "      <td>BAKING SET 9 PIECE RETROSPOT</td>\n",
       "      <td>3</td>\n",
       "      <td>2011-12-09 12:50:00</td>\n",
       "      <td>4.95</td>\n",
       "      <td>12680.0</td>\n",
       "      <td>France</td>\n",
       "    </tr>\n",
       "  </tbody>\n",
       "</table>\n",
       "</div>"
      ],
      "text/plain": [
       "       InvoiceNo StockCode                      Description  Quantity  \\\n",
       "541904    581587     22613      PACK OF 20 SPACEBOY NAPKINS        12   \n",
       "541905    581587     22899     CHILDREN'S APRON DOLLY GIRL          6   \n",
       "541906    581587     23254    CHILDRENS CUTLERY DOLLY GIRL          4   \n",
       "541907    581587     23255  CHILDRENS CUTLERY CIRCUS PARADE         4   \n",
       "541908    581587     22138    BAKING SET 9 PIECE RETROSPOT          3   \n",
       "\n",
       "               InvoiceDate  UnitPrice  CustomerID Country  \n",
       "541904 2011-12-09 12:50:00       0.85     12680.0  France  \n",
       "541905 2011-12-09 12:50:00       2.10     12680.0  France  \n",
       "541906 2011-12-09 12:50:00       4.15     12680.0  France  \n",
       "541907 2011-12-09 12:50:00       4.15     12680.0  France  \n",
       "541908 2011-12-09 12:50:00       4.95     12680.0  France  "
      ]
     },
     "execution_count": 5,
     "metadata": {},
     "output_type": "execute_result"
    }
   ],
   "source": [
    "# displaying few bottom rows from the dataframe\n",
    "\n",
    "data.tail()"
   ]
  },
  {
   "cell_type": "code",
   "execution_count": 6,
   "metadata": {
    "ExecuteTime": {
     "end_time": "2023-12-25T19:51:34.026392Z",
     "start_time": "2023-12-25T19:51:33.845668Z"
    },
    "colab": {
     "base_uri": "https://localhost:8080/"
    },
    "id": "IfDTzf8LbRlu",
    "outputId": "af9b3736-96ba-40f8-eac4-2a67336d52ec"
   },
   "outputs": [
    {
     "name": "stdout",
     "output_type": "stream",
     "text": [
      "<class 'pandas.core.frame.DataFrame'>\n",
      "RangeIndex: 541909 entries, 0 to 541908\n",
      "Data columns (total 8 columns):\n",
      " #   Column       Non-Null Count   Dtype         \n",
      "---  ------       --------------   -----         \n",
      " 0   InvoiceNo    541909 non-null  object        \n",
      " 1   StockCode    541909 non-null  object        \n",
      " 2   Description  540455 non-null  object        \n",
      " 3   Quantity     541909 non-null  int64         \n",
      " 4   InvoiceDate  541909 non-null  datetime64[ns]\n",
      " 5   UnitPrice    541909 non-null  float64       \n",
      " 6   CustomerID   406829 non-null  float64       \n",
      " 7   Country      541909 non-null  object        \n",
      "dtypes: datetime64[ns](1), float64(2), int64(1), object(4)\n",
      "memory usage: 33.1+ MB\n"
     ]
    }
   ],
   "source": [
    "# displaying some information about the dataframe\n",
    "# expecially to be sure that the datatype are accurate\n",
    "\n",
    "data.info()"
   ]
  },
  {
   "cell_type": "markdown",
   "metadata": {},
   "source": [
    "The preceding output shows that:\n",
    "1. The datatype for the CustomerID column is not accurate. i.e. base on the data dictionary, the ColumnID is supposed to be a 5-digit integral number.\n",
    "2. There are missing values in Description, and CustomerID columns."
   ]
  },
  {
   "cell_type": "code",
   "execution_count": 7,
   "metadata": {
    "ExecuteTime": {
     "end_time": "2023-12-25T19:51:46.392292Z",
     "start_time": "2023-12-25T19:51:46.228508Z"
    },
    "colab": {
     "base_uri": "https://localhost:8080/",
     "height": 300
    },
    "id": "6gkt-8jqg_hb",
    "outputId": "1b43f97e-15a8-4461-d31c-af907ed3d33f"
   },
   "outputs": [
    {
     "data": {
      "text/html": [
       "<div>\n",
       "<style scoped>\n",
       "    .dataframe tbody tr th:only-of-type {\n",
       "        vertical-align: middle;\n",
       "    }\n",
       "\n",
       "    .dataframe tbody tr th {\n",
       "        vertical-align: top;\n",
       "    }\n",
       "\n",
       "    .dataframe thead th {\n",
       "        text-align: right;\n",
       "    }\n",
       "</style>\n",
       "<table border=\"1\" class=\"dataframe\">\n",
       "  <thead>\n",
       "    <tr style=\"text-align: right;\">\n",
       "      <th></th>\n",
       "      <th>Quantity</th>\n",
       "      <th>InvoiceDate</th>\n",
       "      <th>UnitPrice</th>\n",
       "      <th>CustomerID</th>\n",
       "    </tr>\n",
       "  </thead>\n",
       "  <tbody>\n",
       "    <tr>\n",
       "      <th>count</th>\n",
       "      <td>541909.000000</td>\n",
       "      <td>541909</td>\n",
       "      <td>541909.000000</td>\n",
       "      <td>406829.000000</td>\n",
       "    </tr>\n",
       "    <tr>\n",
       "      <th>mean</th>\n",
       "      <td>9.552250</td>\n",
       "      <td>2011-07-04 13:34:57.156386048</td>\n",
       "      <td>4.611114</td>\n",
       "      <td>15287.690570</td>\n",
       "    </tr>\n",
       "    <tr>\n",
       "      <th>min</th>\n",
       "      <td>-80995.000000</td>\n",
       "      <td>2010-12-01 08:26:00</td>\n",
       "      <td>-11062.060000</td>\n",
       "      <td>12346.000000</td>\n",
       "    </tr>\n",
       "    <tr>\n",
       "      <th>25%</th>\n",
       "      <td>1.000000</td>\n",
       "      <td>2011-03-28 11:34:00</td>\n",
       "      <td>1.250000</td>\n",
       "      <td>13953.000000</td>\n",
       "    </tr>\n",
       "    <tr>\n",
       "      <th>50%</th>\n",
       "      <td>3.000000</td>\n",
       "      <td>2011-07-19 17:17:00</td>\n",
       "      <td>2.080000</td>\n",
       "      <td>15152.000000</td>\n",
       "    </tr>\n",
       "    <tr>\n",
       "      <th>75%</th>\n",
       "      <td>10.000000</td>\n",
       "      <td>2011-10-19 11:27:00</td>\n",
       "      <td>4.130000</td>\n",
       "      <td>16791.000000</td>\n",
       "    </tr>\n",
       "    <tr>\n",
       "      <th>max</th>\n",
       "      <td>80995.000000</td>\n",
       "      <td>2011-12-09 12:50:00</td>\n",
       "      <td>38970.000000</td>\n",
       "      <td>18287.000000</td>\n",
       "    </tr>\n",
       "    <tr>\n",
       "      <th>std</th>\n",
       "      <td>218.081158</td>\n",
       "      <td>NaN</td>\n",
       "      <td>96.759853</td>\n",
       "      <td>1713.600303</td>\n",
       "    </tr>\n",
       "  </tbody>\n",
       "</table>\n",
       "</div>"
      ],
      "text/plain": [
       "            Quantity                    InvoiceDate      UnitPrice  \\\n",
       "count  541909.000000                         541909  541909.000000   \n",
       "mean        9.552250  2011-07-04 13:34:57.156386048       4.611114   \n",
       "min    -80995.000000            2010-12-01 08:26:00  -11062.060000   \n",
       "25%         1.000000            2011-03-28 11:34:00       1.250000   \n",
       "50%         3.000000            2011-07-19 17:17:00       2.080000   \n",
       "75%        10.000000            2011-10-19 11:27:00       4.130000   \n",
       "max     80995.000000            2011-12-09 12:50:00   38970.000000   \n",
       "std       218.081158                            NaN      96.759853   \n",
       "\n",
       "          CustomerID  \n",
       "count  406829.000000  \n",
       "mean    15287.690570  \n",
       "min     12346.000000  \n",
       "25%     13953.000000  \n",
       "50%     15152.000000  \n",
       "75%     16791.000000  \n",
       "max     18287.000000  \n",
       "std      1713.600303  "
      ]
     },
     "execution_count": 7,
     "metadata": {},
     "output_type": "execute_result"
    }
   ],
   "source": [
    "# Displaying some statistics about the data\n",
    "\n",
    "data.describe()"
   ]
  },
  {
   "cell_type": "markdown",
   "metadata": {},
   "source": [
    "According to the above output, below are some findings that require cleaning:\n",
    "1. The least value for quantity sold is -80995.\n",
    "2. The least value for UnitPrice is -11062.\n",
    "\n",
    "Negative values in Quantity and Unit price are unusual."
   ]
  },
  {
   "cell_type": "code",
   "execution_count": 8,
   "metadata": {
    "ExecuteTime": {
     "end_time": "2023-12-25T19:51:58.801045Z",
     "start_time": "2023-12-25T19:51:58.768068Z"
    },
    "scrolled": true
   },
   "outputs": [
    {
     "data": {
      "text/html": [
       "<div>\n",
       "<style scoped>\n",
       "    .dataframe tbody tr th:only-of-type {\n",
       "        vertical-align: middle;\n",
       "    }\n",
       "\n",
       "    .dataframe tbody tr th {\n",
       "        vertical-align: top;\n",
       "    }\n",
       "\n",
       "    .dataframe thead th {\n",
       "        text-align: right;\n",
       "    }\n",
       "</style>\n",
       "<table border=\"1\" class=\"dataframe\">\n",
       "  <thead>\n",
       "    <tr style=\"text-align: right;\">\n",
       "      <th></th>\n",
       "      <th>InvoiceNo</th>\n",
       "      <th>StockCode</th>\n",
       "      <th>Description</th>\n",
       "      <th>Quantity</th>\n",
       "      <th>InvoiceDate</th>\n",
       "      <th>UnitPrice</th>\n",
       "      <th>CustomerID</th>\n",
       "      <th>Country</th>\n",
       "    </tr>\n",
       "  </thead>\n",
       "  <tbody>\n",
       "    <tr>\n",
       "      <th>141</th>\n",
       "      <td>C536379</td>\n",
       "      <td>D</td>\n",
       "      <td>Discount</td>\n",
       "      <td>-1</td>\n",
       "      <td>2010-12-01 09:41:00</td>\n",
       "      <td>27.50</td>\n",
       "      <td>14527.0</td>\n",
       "      <td>United Kingdom</td>\n",
       "    </tr>\n",
       "    <tr>\n",
       "      <th>154</th>\n",
       "      <td>C536383</td>\n",
       "      <td>35004C</td>\n",
       "      <td>SET OF 3 COLOURED  FLYING DUCKS</td>\n",
       "      <td>-1</td>\n",
       "      <td>2010-12-01 09:49:00</td>\n",
       "      <td>4.65</td>\n",
       "      <td>15311.0</td>\n",
       "      <td>United Kingdom</td>\n",
       "    </tr>\n",
       "    <tr>\n",
       "      <th>235</th>\n",
       "      <td>C536391</td>\n",
       "      <td>22556</td>\n",
       "      <td>PLASTERS IN TIN CIRCUS PARADE</td>\n",
       "      <td>-12</td>\n",
       "      <td>2010-12-01 10:24:00</td>\n",
       "      <td>1.65</td>\n",
       "      <td>17548.0</td>\n",
       "      <td>United Kingdom</td>\n",
       "    </tr>\n",
       "    <tr>\n",
       "      <th>236</th>\n",
       "      <td>C536391</td>\n",
       "      <td>21984</td>\n",
       "      <td>PACK OF 12 PINK PAISLEY TISSUES</td>\n",
       "      <td>-24</td>\n",
       "      <td>2010-12-01 10:24:00</td>\n",
       "      <td>0.29</td>\n",
       "      <td>17548.0</td>\n",
       "      <td>United Kingdom</td>\n",
       "    </tr>\n",
       "    <tr>\n",
       "      <th>237</th>\n",
       "      <td>C536391</td>\n",
       "      <td>21983</td>\n",
       "      <td>PACK OF 12 BLUE PAISLEY TISSUES</td>\n",
       "      <td>-24</td>\n",
       "      <td>2010-12-01 10:24:00</td>\n",
       "      <td>0.29</td>\n",
       "      <td>17548.0</td>\n",
       "      <td>United Kingdom</td>\n",
       "    </tr>\n",
       "  </tbody>\n",
       "</table>\n",
       "</div>"
      ],
      "text/plain": [
       "    InvoiceNo StockCode                       Description  Quantity  \\\n",
       "141   C536379         D                          Discount        -1   \n",
       "154   C536383    35004C   SET OF 3 COLOURED  FLYING DUCKS        -1   \n",
       "235   C536391     22556    PLASTERS IN TIN CIRCUS PARADE        -12   \n",
       "236   C536391     21984  PACK OF 12 PINK PAISLEY TISSUES        -24   \n",
       "237   C536391     21983  PACK OF 12 BLUE PAISLEY TISSUES        -24   \n",
       "\n",
       "            InvoiceDate  UnitPrice  CustomerID         Country  \n",
       "141 2010-12-01 09:41:00      27.50     14527.0  United Kingdom  \n",
       "154 2010-12-01 09:49:00       4.65     15311.0  United Kingdom  \n",
       "235 2010-12-01 10:24:00       1.65     17548.0  United Kingdom  \n",
       "236 2010-12-01 10:24:00       0.29     17548.0  United Kingdom  \n",
       "237 2010-12-01 10:24:00       0.29     17548.0  United Kingdom  "
      ]
     },
     "execution_count": 8,
     "metadata": {},
     "output_type": "execute_result"
    }
   ],
   "source": [
    "# Checking for the rows in quantity column with negative values\n",
    "data[data['Quantity'] < 0].head()"
   ]
  },
  {
   "cell_type": "code",
   "execution_count": 9,
   "metadata": {
    "ExecuteTime": {
     "end_time": "2023-12-25T19:52:09.937839Z",
     "start_time": "2023-12-25T19:52:09.917123Z"
    }
   },
   "outputs": [
    {
     "data": {
      "text/html": [
       "<div>\n",
       "<style scoped>\n",
       "    .dataframe tbody tr th:only-of-type {\n",
       "        vertical-align: middle;\n",
       "    }\n",
       "\n",
       "    .dataframe tbody tr th {\n",
       "        vertical-align: top;\n",
       "    }\n",
       "\n",
       "    .dataframe thead th {\n",
       "        text-align: right;\n",
       "    }\n",
       "</style>\n",
       "<table border=\"1\" class=\"dataframe\">\n",
       "  <thead>\n",
       "    <tr style=\"text-align: right;\">\n",
       "      <th></th>\n",
       "      <th>InvoiceNo</th>\n",
       "      <th>StockCode</th>\n",
       "      <th>Description</th>\n",
       "      <th>Quantity</th>\n",
       "      <th>InvoiceDate</th>\n",
       "      <th>UnitPrice</th>\n",
       "      <th>CustomerID</th>\n",
       "      <th>Country</th>\n",
       "    </tr>\n",
       "  </thead>\n",
       "  <tbody>\n",
       "    <tr>\n",
       "      <th>299983</th>\n",
       "      <td>A563186</td>\n",
       "      <td>B</td>\n",
       "      <td>Adjust bad debt</td>\n",
       "      <td>1</td>\n",
       "      <td>2011-08-12 14:51:00</td>\n",
       "      <td>-11062.06</td>\n",
       "      <td>NaN</td>\n",
       "      <td>United Kingdom</td>\n",
       "    </tr>\n",
       "    <tr>\n",
       "      <th>299984</th>\n",
       "      <td>A563187</td>\n",
       "      <td>B</td>\n",
       "      <td>Adjust bad debt</td>\n",
       "      <td>1</td>\n",
       "      <td>2011-08-12 14:52:00</td>\n",
       "      <td>-11062.06</td>\n",
       "      <td>NaN</td>\n",
       "      <td>United Kingdom</td>\n",
       "    </tr>\n",
       "  </tbody>\n",
       "</table>\n",
       "</div>"
      ],
      "text/plain": [
       "       InvoiceNo StockCode      Description  Quantity         InvoiceDate  \\\n",
       "299983   A563186         B  Adjust bad debt         1 2011-08-12 14:51:00   \n",
       "299984   A563187         B  Adjust bad debt         1 2011-08-12 14:52:00   \n",
       "\n",
       "        UnitPrice  CustomerID         Country  \n",
       "299983  -11062.06         NaN  United Kingdom  \n",
       "299984  -11062.06         NaN  United Kingdom  "
      ]
     },
     "execution_count": 9,
     "metadata": {},
     "output_type": "execute_result"
    }
   ],
   "source": [
    "# Checking for the rows in UnitPrice column with negative values\n",
    "data[data['UnitPrice'] < 0].head()"
   ]
  },
  {
   "cell_type": "markdown",
   "metadata": {},
   "source": [
    "**Findings:**\n",
    "1. Majority of the transaction with negative quantity values have an innitial of 'C' in their InvoiceNo which indicates a cancelled transaction.\n",
    "2. Only two transactions in the entire dataset are having negative UnitPrice, and they don't have CustomerID."
   ]
  },
  {
   "cell_type": "markdown",
   "metadata": {
    "id": "0jAAUTO2bNsb"
   },
   "source": [
    "<a id='clean'></a>\n",
    "## Data Cleaning\n",
    "> In this stage, the data will be cleaned up based on the observations made in the inspection section above, in order to prepare it for analysis.\n",
    "\n",
    "The following are the data cleaning acivities to be carried out:\n",
    "1. Create a check that the quantity should not be below 1 unit\n",
    "2. Create a check that the Unit price should not be below $0\n",
    "3. Create Revenue column\n",
    "4. Change EIRE to Ireland from Country column\n",
    "5. Change RSA to South Africa from Country column\n",
    "6. Address missing values in Description and CustomerID column.\n",
    "7. Change the datatype of CustomerID Column to integer."
   ]
  },
  {
   "cell_type": "code",
   "execution_count": 10,
   "metadata": {
    "ExecuteTime": {
     "end_time": "2023-12-25T19:52:19.324014Z",
     "start_time": "2023-12-25T19:52:19.211767Z"
    },
    "id": "cB5FCbVLhKP9"
   },
   "outputs": [],
   "source": [
    "# Extracting the data base on the first two data cleaning activities\n",
    "# The extracted data will contain rows with quantity not less than 1\n",
    "# and UnitPrice not less than 0\n",
    "# the data will be save to a variable 'ext_data'\n",
    "\n",
    "ext_data = data.loc[(data['Quantity'] >= 1) & (data['UnitPrice'] >= 0), :]"
   ]
  },
  {
   "cell_type": "code",
   "execution_count": 11,
   "metadata": {
    "ExecuteTime": {
     "end_time": "2023-12-25T19:52:24.066970Z",
     "start_time": "2023-12-25T19:52:24.054868Z"
    }
   },
   "outputs": [],
   "source": [
    "# Creating a revenue column with the formula\n",
    "# Quantity * UnitPrice\n",
    "\n",
    "ext_data['Revenue'] = ext_data.Quantity * ext_data.UnitPrice"
   ]
  },
  {
   "cell_type": "code",
   "execution_count": 12,
   "metadata": {
    "ExecuteTime": {
     "end_time": "2023-12-25T19:52:29.038741Z",
     "start_time": "2023-12-25T19:52:28.956587Z"
    }
   },
   "outputs": [
    {
     "data": {
      "text/plain": [
       "array(['United Kingdom', 'France', 'Australia', 'Netherlands', 'Germany',\n",
       "       'Norway', 'EIRE', 'Switzerland', 'Spain', 'Poland', 'Portugal',\n",
       "       'Italy', 'Belgium', 'Lithuania', 'Japan', 'Iceland',\n",
       "       'Channel Islands', 'Denmark', 'Cyprus', 'Sweden', 'Finland',\n",
       "       'Austria', 'Bahrain', 'Israel', 'Greece', 'Hong Kong', 'Singapore',\n",
       "       'Lebanon', 'United Arab Emirates', 'Saudi Arabia',\n",
       "       'Czech Republic', 'Canada', 'Unspecified', 'Brazil', 'USA',\n",
       "       'European Community', 'Malta', 'RSA'], dtype=object)"
      ]
     },
     "execution_count": 12,
     "metadata": {},
     "output_type": "execute_result"
    }
   ],
   "source": [
    "# Displaying the unique values of the Country\n",
    "\n",
    "ext_data.Country.unique()"
   ]
  },
  {
   "cell_type": "code",
   "execution_count": 13,
   "metadata": {
    "ExecuteTime": {
     "end_time": "2023-12-25T19:52:37.129456Z",
     "start_time": "2023-12-25T19:52:36.957706Z"
    }
   },
   "outputs": [],
   "source": [
    "# Replacing 'EIRE' with 'Ireland' and\n",
    "#'RSA' with 'South Africa' in the Country column\n",
    "# Saving it back to the column so as to take effect\n",
    "\n",
    "ext_data.Country = ext_data.Country.replace({'EIRE': 'Ireland', 'RSA': 'South Africa'})"
   ]
  },
  {
   "cell_type": "code",
   "execution_count": 14,
   "metadata": {
    "ExecuteTime": {
     "end_time": "2023-12-25T19:52:42.970562Z",
     "start_time": "2023-12-25T19:52:42.720457Z"
    },
    "id": "6dE1qGv8jxce"
   },
   "outputs": [],
   "source": [
    "# Droping rows that has no CustomerID nor Description\n",
    "\n",
    "ext_data = ext_data.dropna()"
   ]
  },
  {
   "cell_type": "code",
   "execution_count": 15,
   "metadata": {
    "ExecuteTime": {
     "end_time": "2023-12-25T19:52:47.289205Z",
     "start_time": "2023-12-25T19:52:47.280407Z"
    }
   },
   "outputs": [],
   "source": [
    "# Changing the datatype of CustomerID column to integer \n",
    "# Assigning it back to the column to take effect\n",
    "\n",
    "ext_data['CustomerID'] = ext_data.CustomerID.astype(int)"
   ]
  },
  {
   "cell_type": "markdown",
   "metadata": {},
   "source": [
    "<a id='check'></a>\n",
    "## Sanity Check After Data Cleaning\n",
    "> In this section, I'll double-check the structure before moving on to analysis. To determine whether or not the necessary adjustment has been made."
   ]
  },
  {
   "cell_type": "code",
   "execution_count": 16,
   "metadata": {
    "ExecuteTime": {
     "end_time": "2023-12-25T19:52:55.274457Z",
     "start_time": "2023-12-25T19:52:55.116856Z"
    },
    "colab": {
     "base_uri": "https://localhost:8080/",
     "height": 300
    },
    "id": "S26Icbrbq4ti",
    "outputId": "a698bd02-fde4-4f48-cda4-7497460bb9f3"
   },
   "outputs": [
    {
     "data": {
      "text/html": [
       "<div>\n",
       "<style scoped>\n",
       "    .dataframe tbody tr th:only-of-type {\n",
       "        vertical-align: middle;\n",
       "    }\n",
       "\n",
       "    .dataframe tbody tr th {\n",
       "        vertical-align: top;\n",
       "    }\n",
       "\n",
       "    .dataframe thead th {\n",
       "        text-align: right;\n",
       "    }\n",
       "</style>\n",
       "<table border=\"1\" class=\"dataframe\">\n",
       "  <thead>\n",
       "    <tr style=\"text-align: right;\">\n",
       "      <th></th>\n",
       "      <th>Quantity</th>\n",
       "      <th>InvoiceDate</th>\n",
       "      <th>UnitPrice</th>\n",
       "      <th>CustomerID</th>\n",
       "      <th>Revenue</th>\n",
       "    </tr>\n",
       "  </thead>\n",
       "  <tbody>\n",
       "    <tr>\n",
       "      <th>count</th>\n",
       "      <td>397924.000000</td>\n",
       "      <td>397924</td>\n",
       "      <td>397924.000000</td>\n",
       "      <td>397924.000000</td>\n",
       "      <td>397924.000000</td>\n",
       "    </tr>\n",
       "    <tr>\n",
       "      <th>mean</th>\n",
       "      <td>13.021823</td>\n",
       "      <td>2011-07-10 23:43:36.912475648</td>\n",
       "      <td>3.116174</td>\n",
       "      <td>15294.315171</td>\n",
       "      <td>22.394749</td>\n",
       "    </tr>\n",
       "    <tr>\n",
       "      <th>min</th>\n",
       "      <td>1.000000</td>\n",
       "      <td>2010-12-01 08:26:00</td>\n",
       "      <td>0.000000</td>\n",
       "      <td>12346.000000</td>\n",
       "      <td>0.000000</td>\n",
       "    </tr>\n",
       "    <tr>\n",
       "      <th>25%</th>\n",
       "      <td>2.000000</td>\n",
       "      <td>2011-04-07 11:12:00</td>\n",
       "      <td>1.250000</td>\n",
       "      <td>13969.000000</td>\n",
       "      <td>4.680000</td>\n",
       "    </tr>\n",
       "    <tr>\n",
       "      <th>50%</th>\n",
       "      <td>6.000000</td>\n",
       "      <td>2011-07-31 14:39:00</td>\n",
       "      <td>1.950000</td>\n",
       "      <td>15159.000000</td>\n",
       "      <td>11.800000</td>\n",
       "    </tr>\n",
       "    <tr>\n",
       "      <th>75%</th>\n",
       "      <td>12.000000</td>\n",
       "      <td>2011-10-20 14:33:00</td>\n",
       "      <td>3.750000</td>\n",
       "      <td>16795.000000</td>\n",
       "      <td>19.800000</td>\n",
       "    </tr>\n",
       "    <tr>\n",
       "      <th>max</th>\n",
       "      <td>80995.000000</td>\n",
       "      <td>2011-12-09 12:50:00</td>\n",
       "      <td>8142.750000</td>\n",
       "      <td>18287.000000</td>\n",
       "      <td>168469.600000</td>\n",
       "    </tr>\n",
       "    <tr>\n",
       "      <th>std</th>\n",
       "      <td>180.420210</td>\n",
       "      <td>NaN</td>\n",
       "      <td>22.096788</td>\n",
       "      <td>1713.169877</td>\n",
       "      <td>309.055588</td>\n",
       "    </tr>\n",
       "  </tbody>\n",
       "</table>\n",
       "</div>"
      ],
      "text/plain": [
       "            Quantity                    InvoiceDate      UnitPrice  \\\n",
       "count  397924.000000                         397924  397924.000000   \n",
       "mean       13.021823  2011-07-10 23:43:36.912475648       3.116174   \n",
       "min         1.000000            2010-12-01 08:26:00       0.000000   \n",
       "25%         2.000000            2011-04-07 11:12:00       1.250000   \n",
       "50%         6.000000            2011-07-31 14:39:00       1.950000   \n",
       "75%        12.000000            2011-10-20 14:33:00       3.750000   \n",
       "max     80995.000000            2011-12-09 12:50:00    8142.750000   \n",
       "std       180.420210                            NaN      22.096788   \n",
       "\n",
       "          CustomerID        Revenue  \n",
       "count  397924.000000  397924.000000  \n",
       "mean    15294.315171      22.394749  \n",
       "min     12346.000000       0.000000  \n",
       "25%     13969.000000       4.680000  \n",
       "50%     15159.000000      11.800000  \n",
       "75%     16795.000000      19.800000  \n",
       "max     18287.000000  168469.600000  \n",
       "std      1713.169877     309.055588  "
      ]
     },
     "execution_count": 16,
     "metadata": {},
     "output_type": "execute_result"
    }
   ],
   "source": [
    "# Displaying some statistics to be sure that all changes have been effected\n",
    "\n",
    "ext_data.describe()"
   ]
  },
  {
   "cell_type": "markdown",
   "metadata": {},
   "source": [
    "Above output shows that the first, second, and third data cleaning activities have been carried out, i.e.\n",
    "- The quantity is not below 1 unit, and\n",
    "- The unit price is not below 0$\n",
    "- The revenue column have been created"
   ]
  },
  {
   "cell_type": "code",
   "execution_count": 17,
   "metadata": {
    "ExecuteTime": {
     "end_time": "2023-12-25T19:53:02.911206Z",
     "start_time": "2023-12-25T19:53:02.845594Z"
    },
    "colab": {
     "base_uri": "https://localhost:8080/"
    },
    "id": "QmzpHtiEkXi2",
    "outputId": "2be1de80-dd7b-4a73-b091-cceace518cec"
   },
   "outputs": [
    {
     "data": {
      "text/plain": [
       "array(['United Kingdom', 'France', 'Australia', 'Netherlands', 'Germany',\n",
       "       'Norway', 'Ireland', 'Switzerland', 'Spain', 'Poland', 'Portugal',\n",
       "       'Italy', 'Belgium', 'Lithuania', 'Japan', 'Iceland',\n",
       "       'Channel Islands', 'Denmark', 'Cyprus', 'Sweden', 'Finland',\n",
       "       'Austria', 'Greece', 'Singapore', 'Lebanon',\n",
       "       'United Arab Emirates', 'Israel', 'Saudi Arabia', 'Czech Republic',\n",
       "       'Canada', 'Unspecified', 'Brazil', 'USA', 'European Community',\n",
       "       'Bahrain', 'Malta', 'South Africa'], dtype=object)"
      ]
     },
     "execution_count": 17,
     "metadata": {},
     "output_type": "execute_result"
    }
   ],
   "source": [
    "ext_data.Country.unique()"
   ]
  },
  {
   "cell_type": "markdown",
   "metadata": {},
   "source": [
    "Above output shows that the fourth and fifth data cleaning activities have been carried out. i.e.\n",
    "- 'EIRE' has been changed to Ireland, while\n",
    "- 'RSA' has been changed to 'South Africa'"
   ]
  },
  {
   "cell_type": "code",
   "execution_count": 18,
   "metadata": {
    "ExecuteTime": {
     "end_time": "2023-12-25T19:53:11.089694Z",
     "start_time": "2023-12-25T19:53:10.950203Z"
    },
    "colab": {
     "base_uri": "https://localhost:8080/"
    },
    "id": "EDbs0FMTj3jk",
    "outputId": "075d4dc4-fa85-47da-df69-81f1fa7fc1d6"
   },
   "outputs": [
    {
     "name": "stdout",
     "output_type": "stream",
     "text": [
      "<class 'pandas.core.frame.DataFrame'>\n",
      "Index: 397924 entries, 0 to 541908\n",
      "Data columns (total 9 columns):\n",
      " #   Column       Non-Null Count   Dtype         \n",
      "---  ------       --------------   -----         \n",
      " 0   InvoiceNo    397924 non-null  object        \n",
      " 1   StockCode    397924 non-null  object        \n",
      " 2   Description  397924 non-null  object        \n",
      " 3   Quantity     397924 non-null  int64         \n",
      " 4   InvoiceDate  397924 non-null  datetime64[ns]\n",
      " 5   UnitPrice    397924 non-null  float64       \n",
      " 6   CustomerID   397924 non-null  int32         \n",
      " 7   Country      397924 non-null  object        \n",
      " 8   Revenue      397924 non-null  float64       \n",
      "dtypes: datetime64[ns](1), float64(2), int32(1), int64(1), object(4)\n",
      "memory usage: 28.8+ MB\n"
     ]
    }
   ],
   "source": [
    "# Displaying the information to be sure that all changes have been effected\n",
    "\n",
    "ext_data.info()"
   ]
  },
  {
   "cell_type": "markdown",
   "metadata": {},
   "source": [
    "Above output shows that the sixth and seventh data cleaning activities have been carried out. i.e.\n",
    "- The rows with the missing values have been dropped, hence, the current data has no null values.\n",
    "- The data type for the CustomerID column have been changed to integer."
   ]
  },
  {
   "cell_type": "markdown",
   "metadata": {},
   "source": [
    "<a id='explore'></a>\n",
    "## Data Exploration\n",
    "> In this section, I will respond to the executive's business question, which will assist them make meaningful decisions on creating an expansion strategy of their retail store."
   ]
  },
  {
   "cell_type": "markdown",
   "metadata": {},
   "source": [
    "### First Question\n",
    "The CEO of the retail store is interested to view the time series of the revenue data for the year 2011 only. He would like to view granular data by looking into revenue for each month. The CEO is interested in viewing the seasonal trends and wants to dig deeper into why these trends occur. This analysis will be helpful for the CEO to forecast for the next year."
   ]
  },
  {
   "cell_type": "code",
   "execution_count": 19,
   "metadata": {
    "ExecuteTime": {
     "end_time": "2023-12-25T19:53:20.567781Z",
     "start_time": "2023-12-25T19:53:20.436451Z"
    }
   },
   "outputs": [],
   "source": [
    "# Extracting the data for only 2011\n",
    "# sving it into a dataframe with the name data_2011\n",
    "\n",
    "data_2011 = ext_data.loc[pd.DatetimeIndex(ext_data['InvoiceDate']).year == 2011, :]"
   ]
  },
  {
   "cell_type": "code",
   "execution_count": 20,
   "metadata": {
    "ExecuteTime": {
     "end_time": "2023-12-25T19:53:27.301685Z",
     "start_time": "2023-12-25T19:53:27.278975Z"
    }
   },
   "outputs": [
    {
     "data": {
      "text/html": [
       "<div>\n",
       "<style scoped>\n",
       "    .dataframe tbody tr th:only-of-type {\n",
       "        vertical-align: middle;\n",
       "    }\n",
       "\n",
       "    .dataframe tbody tr th {\n",
       "        vertical-align: top;\n",
       "    }\n",
       "\n",
       "    .dataframe thead th {\n",
       "        text-align: right;\n",
       "    }\n",
       "</style>\n",
       "<table border=\"1\" class=\"dataframe\">\n",
       "  <thead>\n",
       "    <tr style=\"text-align: right;\">\n",
       "      <th></th>\n",
       "      <th>InvoiceNo</th>\n",
       "      <th>StockCode</th>\n",
       "      <th>Description</th>\n",
       "      <th>Quantity</th>\n",
       "      <th>InvoiceDate</th>\n",
       "      <th>UnitPrice</th>\n",
       "      <th>CustomerID</th>\n",
       "      <th>Country</th>\n",
       "      <th>Revenue</th>\n",
       "    </tr>\n",
       "  </thead>\n",
       "  <tbody>\n",
       "    <tr>\n",
       "      <th>42481</th>\n",
       "      <td>539993</td>\n",
       "      <td>22386</td>\n",
       "      <td>JUMBO BAG PINK POLKADOT</td>\n",
       "      <td>10</td>\n",
       "      <td>2011-01-04 10:00:00</td>\n",
       "      <td>1.95</td>\n",
       "      <td>13313</td>\n",
       "      <td>United Kingdom</td>\n",
       "      <td>19.5</td>\n",
       "    </tr>\n",
       "    <tr>\n",
       "      <th>42482</th>\n",
       "      <td>539993</td>\n",
       "      <td>21499</td>\n",
       "      <td>BLUE POLKADOT WRAP</td>\n",
       "      <td>25</td>\n",
       "      <td>2011-01-04 10:00:00</td>\n",
       "      <td>0.42</td>\n",
       "      <td>13313</td>\n",
       "      <td>United Kingdom</td>\n",
       "      <td>10.5</td>\n",
       "    </tr>\n",
       "    <tr>\n",
       "      <th>42483</th>\n",
       "      <td>539993</td>\n",
       "      <td>21498</td>\n",
       "      <td>RED RETROSPOT WRAP</td>\n",
       "      <td>25</td>\n",
       "      <td>2011-01-04 10:00:00</td>\n",
       "      <td>0.42</td>\n",
       "      <td>13313</td>\n",
       "      <td>United Kingdom</td>\n",
       "      <td>10.5</td>\n",
       "    </tr>\n",
       "    <tr>\n",
       "      <th>42484</th>\n",
       "      <td>539993</td>\n",
       "      <td>22379</td>\n",
       "      <td>RECYCLING BAG RETROSPOT</td>\n",
       "      <td>5</td>\n",
       "      <td>2011-01-04 10:00:00</td>\n",
       "      <td>2.10</td>\n",
       "      <td>13313</td>\n",
       "      <td>United Kingdom</td>\n",
       "      <td>10.5</td>\n",
       "    </tr>\n",
       "    <tr>\n",
       "      <th>42485</th>\n",
       "      <td>539993</td>\n",
       "      <td>20718</td>\n",
       "      <td>RED RETROSPOT SHOPPER BAG</td>\n",
       "      <td>10</td>\n",
       "      <td>2011-01-04 10:00:00</td>\n",
       "      <td>1.25</td>\n",
       "      <td>13313</td>\n",
       "      <td>United Kingdom</td>\n",
       "      <td>12.5</td>\n",
       "    </tr>\n",
       "  </tbody>\n",
       "</table>\n",
       "</div>"
      ],
      "text/plain": [
       "      InvoiceNo StockCode                Description  Quantity  \\\n",
       "42481    539993     22386    JUMBO BAG PINK POLKADOT        10   \n",
       "42482    539993     21499         BLUE POLKADOT WRAP        25   \n",
       "42483    539993     21498        RED RETROSPOT WRAP         25   \n",
       "42484    539993     22379   RECYCLING BAG RETROSPOT          5   \n",
       "42485    539993     20718  RED RETROSPOT SHOPPER BAG        10   \n",
       "\n",
       "              InvoiceDate  UnitPrice  CustomerID         Country  Revenue  \n",
       "42481 2011-01-04 10:00:00       1.95       13313  United Kingdom     19.5  \n",
       "42482 2011-01-04 10:00:00       0.42       13313  United Kingdom     10.5  \n",
       "42483 2011-01-04 10:00:00       0.42       13313  United Kingdom     10.5  \n",
       "42484 2011-01-04 10:00:00       2.10       13313  United Kingdom     10.5  \n",
       "42485 2011-01-04 10:00:00       1.25       13313  United Kingdom     12.5  "
      ]
     },
     "execution_count": 20,
     "metadata": {},
     "output_type": "execute_result"
    }
   ],
   "source": [
    "# Displaying the few top rows of the 2011 data\n",
    "\n",
    "data_2011.head()"
   ]
  },
  {
   "cell_type": "code",
   "execution_count": 21,
   "metadata": {
    "ExecuteTime": {
     "end_time": "2023-12-25T19:53:31.511024Z",
     "start_time": "2023-12-25T19:53:31.492557Z"
    },
    "scrolled": true
   },
   "outputs": [
    {
     "data": {
      "text/html": [
       "<div>\n",
       "<style scoped>\n",
       "    .dataframe tbody tr th:only-of-type {\n",
       "        vertical-align: middle;\n",
       "    }\n",
       "\n",
       "    .dataframe tbody tr th {\n",
       "        vertical-align: top;\n",
       "    }\n",
       "\n",
       "    .dataframe thead th {\n",
       "        text-align: right;\n",
       "    }\n",
       "</style>\n",
       "<table border=\"1\" class=\"dataframe\">\n",
       "  <thead>\n",
       "    <tr style=\"text-align: right;\">\n",
       "      <th></th>\n",
       "      <th>InvoiceNo</th>\n",
       "      <th>StockCode</th>\n",
       "      <th>Description</th>\n",
       "      <th>Quantity</th>\n",
       "      <th>InvoiceDate</th>\n",
       "      <th>UnitPrice</th>\n",
       "      <th>CustomerID</th>\n",
       "      <th>Country</th>\n",
       "      <th>Revenue</th>\n",
       "    </tr>\n",
       "  </thead>\n",
       "  <tbody>\n",
       "    <tr>\n",
       "      <th>541904</th>\n",
       "      <td>581587</td>\n",
       "      <td>22613</td>\n",
       "      <td>PACK OF 20 SPACEBOY NAPKINS</td>\n",
       "      <td>12</td>\n",
       "      <td>2011-12-09 12:50:00</td>\n",
       "      <td>0.85</td>\n",
       "      <td>12680</td>\n",
       "      <td>France</td>\n",
       "      <td>10.20</td>\n",
       "    </tr>\n",
       "    <tr>\n",
       "      <th>541905</th>\n",
       "      <td>581587</td>\n",
       "      <td>22899</td>\n",
       "      <td>CHILDREN'S APRON DOLLY GIRL</td>\n",
       "      <td>6</td>\n",
       "      <td>2011-12-09 12:50:00</td>\n",
       "      <td>2.10</td>\n",
       "      <td>12680</td>\n",
       "      <td>France</td>\n",
       "      <td>12.60</td>\n",
       "    </tr>\n",
       "    <tr>\n",
       "      <th>541906</th>\n",
       "      <td>581587</td>\n",
       "      <td>23254</td>\n",
       "      <td>CHILDRENS CUTLERY DOLLY GIRL</td>\n",
       "      <td>4</td>\n",
       "      <td>2011-12-09 12:50:00</td>\n",
       "      <td>4.15</td>\n",
       "      <td>12680</td>\n",
       "      <td>France</td>\n",
       "      <td>16.60</td>\n",
       "    </tr>\n",
       "    <tr>\n",
       "      <th>541907</th>\n",
       "      <td>581587</td>\n",
       "      <td>23255</td>\n",
       "      <td>CHILDRENS CUTLERY CIRCUS PARADE</td>\n",
       "      <td>4</td>\n",
       "      <td>2011-12-09 12:50:00</td>\n",
       "      <td>4.15</td>\n",
       "      <td>12680</td>\n",
       "      <td>France</td>\n",
       "      <td>16.60</td>\n",
       "    </tr>\n",
       "    <tr>\n",
       "      <th>541908</th>\n",
       "      <td>581587</td>\n",
       "      <td>22138</td>\n",
       "      <td>BAKING SET 9 PIECE RETROSPOT</td>\n",
       "      <td>3</td>\n",
       "      <td>2011-12-09 12:50:00</td>\n",
       "      <td>4.95</td>\n",
       "      <td>12680</td>\n",
       "      <td>France</td>\n",
       "      <td>14.85</td>\n",
       "    </tr>\n",
       "  </tbody>\n",
       "</table>\n",
       "</div>"
      ],
      "text/plain": [
       "       InvoiceNo StockCode                      Description  Quantity  \\\n",
       "541904    581587     22613      PACK OF 20 SPACEBOY NAPKINS        12   \n",
       "541905    581587     22899     CHILDREN'S APRON DOLLY GIRL          6   \n",
       "541906    581587     23254    CHILDRENS CUTLERY DOLLY GIRL          4   \n",
       "541907    581587     23255  CHILDRENS CUTLERY CIRCUS PARADE         4   \n",
       "541908    581587     22138    BAKING SET 9 PIECE RETROSPOT          3   \n",
       "\n",
       "               InvoiceDate  UnitPrice  CustomerID Country  Revenue  \n",
       "541904 2011-12-09 12:50:00       0.85       12680  France    10.20  \n",
       "541905 2011-12-09 12:50:00       2.10       12680  France    12.60  \n",
       "541906 2011-12-09 12:50:00       4.15       12680  France    16.60  \n",
       "541907 2011-12-09 12:50:00       4.15       12680  France    16.60  \n",
       "541908 2011-12-09 12:50:00       4.95       12680  France    14.85  "
      ]
     },
     "execution_count": 21,
     "metadata": {},
     "output_type": "execute_result"
    }
   ],
   "source": [
    "# Displaying the few bottom rows of the 2011 data\n",
    "\n",
    "data_2011.tail()"
   ]
  },
  {
   "cell_type": "code",
   "execution_count": 22,
   "metadata": {
    "ExecuteTime": {
     "end_time": "2023-12-25T19:53:40.475226Z",
     "start_time": "2023-12-25T19:53:39.900317Z"
    }
   },
   "outputs": [],
   "source": [
    "# Picking the unique month names in the InvoiceDate column\n",
    "# with an emphasis on the first three letters in each month name\n",
    "# saving the short month names into months_name\n",
    "\n",
    "months_name = pd.to_datetime(data_2011['InvoiceDate'], format='%m').dt.month_name().str.slice(stop=3).unique()"
   ]
  },
  {
   "cell_type": "code",
   "execution_count": 23,
   "metadata": {
    "ExecuteTime": {
     "end_time": "2023-12-25T19:53:52.733171Z",
     "start_time": "2023-12-25T19:53:46.871588Z"
    }
   },
   "outputs": [],
   "source": [
    "# Grouping the 2011 data by month and summing up the revenue\n",
    "# Saving it into a variable with the name 'monthly_revenue'\n",
    "\n",
    "monthly_revenue = data_2011.groupby(data_2011['InvoiceDate'].dt.month)['Revenue'].sum()"
   ]
  },
  {
   "cell_type": "code",
   "execution_count": 24,
   "metadata": {
    "ExecuteTime": {
     "end_time": "2023-12-25T19:54:06.742420Z",
     "start_time": "2023-12-25T19:54:05.883458Z"
    },
    "scrolled": false
   },
   "outputs": [
    {
     "data": {
      "image/png": "[encoded data removed]",
      "text/plain": [
       "<Figure size 800x400 with 1 Axes>"
      ]
     },
     "metadata": {},
     "output_type": "display_data"
    }
   ],
   "source": [
    "# Setting the size of the chart\n",
    "fig = plt.figure(figsize = (8, 4)) \n",
    "\n",
    "# Plotting a line chart with the\n",
    "# months name as the x values, and\n",
    "# summed up revenue as the y values\n",
    "plt.plot(months_name, monthly_revenue.values, marker='o', linestyle='-')\n",
    "\n",
    "# Displaying the grid line in the chart\n",
    "plt.grid(True)\n",
    "\n",
    "# Customize the plot\n",
    "plt.xlabel('Months')\n",
    "plt.ylabel('Revenue')\n",
    "plt.title('Trends of Revenue for 2011')\n",
    "\n",
    "# Formatting the values in the y axis to a more readable form\n",
    "plt.gca().get_yaxis().get_major_formatter().set_scientific(False);"
   ]
  },
  {
   "cell_type": "markdown",
   "metadata": {},
   "source": [
    "**Insights:**\n",
    "- The Visual above shows the monthly trends of revenue for year 2011.\n",
    "- The line chart illustrates that the revenue trend between months is inconsistent.\n",
    "- The month February has the lowest revenue generated, with 447,137.350 dollars.\n",
    "- The month November has the highest revenue generated, with 1,161,817.380 dollars.\n",
    "- The revenue increased steadily from August to November but then sharply declined in December, going from over a million dollars in November to just a little over half a million dollars in December. This is concerning, and the reason for the sharp decline in revenue has to be investigated."
   ]
  },
  {
   "cell_type": "markdown",
   "metadata": {},
   "source": [
    "### Second Question\n",
    "The CMO is interested in viewing the top 10 countries which are generating the highest revenue. Additionally, the CMO is also interested in viewing the quantity sold along with the revenue generated. The CMO does not want to have the United Kingdom in this visual."
   ]
  },
  {
   "cell_type": "code",
   "execution_count": 25,
   "metadata": {
    "ExecuteTime": {
     "end_time": "2023-12-25T19:55:35.338543Z",
     "start_time": "2023-12-25T19:55:34.541343Z"
    }
   },
   "outputs": [],
   "source": [
    "# Grouping the whole data by country (excluding United Kingdom) and summing up the revenue\n",
    "# Saving it into a variable with the name 'country_revenue'\n",
    "\n",
    "country_revenue = ext_data.groupby(ext_data['Country'][ext_data['Country'] != 'United Kingdom'])['Revenue'].sum()"
   ]
  },
  {
   "cell_type": "code",
   "execution_count": 26,
   "metadata": {
    "ExecuteTime": {
     "end_time": "2023-12-25T19:55:39.945620Z",
     "start_time": "2023-12-25T19:55:39.939679Z"
    },
    "scrolled": true
   },
   "outputs": [],
   "source": [
    "# Sorting the revenue by country in descending order (highest to lowest)\n",
    "# So as to have the contries with the highest generating revenue at the top\n",
    "\n",
    "country_revenue = country_revenue.sort_values(ascending = False)"
   ]
  },
  {
   "cell_type": "code",
   "execution_count": 27,
   "metadata": {
    "ExecuteTime": {
     "end_time": "2023-12-25T19:55:48.033298Z",
     "start_time": "2023-12-25T19:55:48.019113Z"
    }
   },
   "outputs": [
    {
     "data": {
      "text/plain": [
       "Country\n",
       "Japan           37416.37\n",
       "Sweden          38378.33\n",
       "Belgium         41196.34\n",
       "Switzerland     56443.95\n",
       "Spain           61577.11\n",
       "Australia      138521.31\n",
       "France         209024.05\n",
       "Germany        228867.14\n",
       "Ireland        265545.90\n",
       "Netherlands    285446.34\n",
       "Name: Revenue, dtype: float64"
      ]
     },
     "execution_count": 27,
     "metadata": {},
     "output_type": "execute_result"
    }
   ],
   "source": [
    "# Slicing the top 10 countries with the highest generating revenue\n",
    "# sorting it in acsending order (lowest to highest)\n",
    "# Saving it in the variable with the name 'country_revenue_exc_UK'\n",
    "country_revenue_exc_UK = country_revenue[:10].sort_values()\n",
    "\n",
    "country_revenue_exc_UK"
   ]
  },
  {
   "cell_type": "code",
   "execution_count": 28,
   "metadata": {
    "ExecuteTime": {
     "end_time": "2023-12-25T19:55:57.805312Z",
     "start_time": "2023-12-25T19:55:56.893425Z"
    },
    "scrolled": true
   },
   "outputs": [],
   "source": [
    "# Grouping the whole data by country (excluding United Kingdom) and summing up the quantity\n",
    "# Saving it into a variable with the name 'country_quant'\n",
    "\n",
    "country_quant = ext_data.groupby(ext_data['Country'][ext_data['Country'] != 'United Kingdom'])['Quantity'].sum()"
   ]
  },
  {
   "cell_type": "code",
   "execution_count": 29,
   "metadata": {
    "ExecuteTime": {
     "end_time": "2023-12-25T19:56:03.555974Z",
     "start_time": "2023-12-25T19:56:03.543443Z"
    }
   },
   "outputs": [
    {
     "data": {
      "text/plain": [
       "Country\n",
       "Belgium         23237\n",
       "Japan           26016\n",
       "Spain           27951\n",
       "Switzerland     30083\n",
       "Sweden          36083\n",
       "Australia       84209\n",
       "France         111472\n",
       "Germany        119263\n",
       "Ireland        140525\n",
       "Netherlands    200937\n",
       "Name: Quantity, dtype: int64"
      ]
     },
     "execution_count": 29,
     "metadata": {},
     "output_type": "execute_result"
    }
   ],
   "source": [
    "# Slicing the data for the countries present in the top 10 countries with the highest generating revenue\n",
    "# from the 'country_quant'\n",
    "# Saving it in the variable with the name 'country_quant_exc_UK'\n",
    "country_quant_exc_UK = country_quant[country_quant.index.isin(country_revenue_exc_UK.index)]\n",
    "\n",
    "# Sorting the data in ascending order (lowest to highest)\n",
    "country_quant_exc_UK = country_quant_exc_UK.sort_values(ascending = True)\n",
    "\n",
    "country_quant_exc_UK"
   ]
  },
  {
   "cell_type": "code",
   "execution_count": 30,
   "metadata": {
    "ExecuteTime": {
     "end_time": "2023-12-25T19:56:14.228380Z",
     "start_time": "2023-12-25T19:56:14.222156Z"
    }
   },
   "outputs": [],
   "source": [
    "# saving the index of the series in 'country_revenue_exc_UK' to 'x_rev' variable\n",
    "x_rev = country_revenue_exc_UK.index\n",
    "\n",
    "# saving the index of the series in 'country_quant_exc_UK' to 'x_quant' variable\n",
    "x_quant = country_quant_exc_UK.index\n",
    "\n",
    "# saving the values of the series in 'country_revenue_exc_UK' to 'y_rev' variable\n",
    "y_rev = country_revenue_exc_UK.values\n",
    "\n",
    "# saving the values of the series in 'country_quant_exc_UK' to 'y_quant' variable\n",
    "y_quant = country_quant_exc_UK.values"
   ]
  },
  {
   "cell_type": "code",
   "execution_count": 31,
   "metadata": {
    "ExecuteTime": {
     "end_time": "2023-12-25T19:56:23.104371Z",
     "start_time": "2023-12-25T19:56:22.374452Z"
    },
    "scrolled": false
   },
   "outputs": [
    {
     "data": {
      "image/png": "[encoded data removed]",
      "text/plain": [
       "<Figure size 1000x500 with 1 Axes>"
      ]
     },
     "metadata": {},
     "output_type": "display_data"
    }
   ],
   "source": [
    "# Setting the size of the chart\n",
    "fig = plt.figure(figsize = (10, 5))\n",
    "\n",
    "# plotting two bar charts on each other\n",
    "\n",
    "# Plotting the bar chart for the top 10 countries\n",
    "# with the highest generating revenue\n",
    "plt.bar(x_rev, y_rev, width=0.4, label='Revenue')\n",
    "\n",
    "# Plotting the bar chart of the quantity sold\n",
    "# for the top 10 countries with the highest generating revenue\n",
    "plt.bar(x_quant, y_quant, alpha=0.7, align='edge', width=0.4, label='Quantity')\n",
    "\n",
    "# Customize the plot\n",
    "plt.xlabel('Countries')\n",
    "plt.ylabel('Values')\n",
    "plt.title('Top 10 Revenue-Generating Countries (excluding United Kingdom)')\n",
    "plt.legend();"
   ]
  },
  {
   "cell_type": "markdown",
   "metadata": {},
   "source": [
    "**Insights:**\n",
    "- The Visual above shows the the top 10 revenue-generating countries.\n",
    "- The visual displays the quantity sold as well as the revenue made by various countries.\n",
    "- The chart above shows that among the top 10 revenue-generating countries, Japan is the country with the lowest revenue, while Belgium has the lowest quantity sold.\n",
    "- Also among the top 10 revenue-generating countries, the Netherlands is the country that generates the highest revenue and has the largest sales volume."
   ]
  },
  {
   "cell_type": "markdown",
   "metadata": {},
   "source": [
    "### Third Question\n",
    "The CMO of the online retail store wants to view the information on the top 10 customers by revenue. He is interested in a visual that shows the greatest revenue generating customer at the start and gradually declines to the lower revenue generating customers. The CMO wants to target the higher revenue generating customers and ensure that they remain satisfied with their products."
   ]
  },
  {
   "cell_type": "code",
   "execution_count": 32,
   "metadata": {
    "ExecuteTime": {
     "end_time": "2023-12-25T19:56:40.495779Z",
     "start_time": "2023-12-25T19:56:40.469330Z"
    }
   },
   "outputs": [],
   "source": [
    "# Grouping the whole data by CustomerID and summing up the revenue\n",
    "# Saving it into a variable with the name 'customer_revenue'\n",
    "customer_revenue = ext_data.groupby(ext_data['CustomerID'])['Revenue'].sum()\n",
    "\n",
    "# Sorting the 'customer_revenue' in descending order (Highest to lowest)\n",
    "# Saving it into a variable 'sorted_customer_revenue'\n",
    "sorted_customer_revenue = customer_revenue.sort_values(ascending = False)"
   ]
  },
  {
   "cell_type": "code",
   "execution_count": 33,
   "metadata": {
    "ExecuteTime": {
     "end_time": "2023-12-25T19:56:47.104148Z",
     "start_time": "2023-12-25T19:56:47.092508Z"
    }
   },
   "outputs": [
    {
     "data": {
      "text/plain": [
       "CustomerID\n",
       "12346     77183.60\n",
       "16029     81024.84\n",
       "17511     91062.38\n",
       "14156    117379.63\n",
       "12415    124914.53\n",
       "14911    143825.06\n",
       "16446    168472.50\n",
       "17450    194550.79\n",
       "18102    259657.30\n",
       "14646    280206.02\n",
       "Name: Revenue, dtype: float64"
      ]
     },
     "execution_count": 33,
     "metadata": {},
     "output_type": "execute_result"
    }
   ],
   "source": [
    "# Slicing the top 10 customers by revenue\n",
    "# Saving it into a variable 'top_10_cust_rev'\n",
    "\n",
    "top_10_cust_rev = sorted_customer_revenue[:10].sort_values()\n",
    "top_10_cust_rev"
   ]
  },
  {
   "cell_type": "code",
   "execution_count": 34,
   "metadata": {
    "ExecuteTime": {
     "end_time": "2023-12-25T19:56:53.644287Z",
     "start_time": "2023-12-25T19:56:53.638887Z"
    }
   },
   "outputs": [],
   "source": [
    "# saving the index of the series in 'top_10_cust_rev' to 'x_cust_rev' variable\n",
    "x_cust_rev = list(map(str, top_10_cust_rev.index))\n",
    "\n",
    "# saving the values of the series in 'top_10_cust_rev' to 'y_cust_rev' variable\n",
    "y_cust_rev = top_10_cust_rev.values"
   ]
  },
  {
   "cell_type": "code",
   "execution_count": 35,
   "metadata": {
    "ExecuteTime": {
     "end_time": "2023-12-25T19:57:01.835575Z",
     "start_time": "2023-12-25T19:57:01.211600Z"
    },
    "scrolled": false
   },
   "outputs": [
    {
     "data": {
      "image/png": "[encoded data removed]",
      "text/plain": [
       "<Figure size 800x400 with 1 Axes>"
      ]
     },
     "metadata": {},
     "output_type": "display_data"
    }
   ],
   "source": [
    "# Setting the size of the chart\n",
    "fig = plt.figure(figsize = (8, 4))\n",
    "\n",
    "# plotting an horizontal bar chart\n",
    "plt.barh(x_cust_rev, y_cust_rev);\n",
    "\n",
    "# Customize the plot\n",
    "plt.xlabel('Revenue')\n",
    "plt.ylabel('CustomerID')\n",
    "plt.title('Top 10 Customers by Revenue');"
   ]
  },
  {
   "cell_type": "markdown",
   "metadata": {
    "ExecuteTime": {
     "end_time": "2023-12-22T01:54:46.514269Z",
     "start_time": "2023-12-22T01:54:46.250494Z"
    }
   },
   "source": [
    "**Insights:**\n",
    "- The Visual above shows the the top 10 highest revenue-generating customer.\n",
    "- The chart above shows that the client with the ID '14646' generates the highest revenue among the top ten customers by revenue.\n",
    "- The chart above shows that the Customer with the ID '12346' generates the least revenue among the top ten customers by revenue."
   ]
  },
  {
   "cell_type": "markdown",
   "metadata": {},
   "source": [
    "### Fourth Question\n",
    "The CEO is looking to gain insights on the demand for their products. He wants to look at all countries and see which regions have the greatest demand for their products. Once the CEO gets an idea of the regions that have high demand, he will initiate an expansion strategy which will allow the company to target these areas and generate more business from these regions. He wants to view the entire data on a single view without the need to scroll or hover over the data points to identify the demand. There is no need to show data for the United Kingdom as the CEO is more interested in viewing the countries that have expansion opportunities."
   ]
  },
  {
   "cell_type": "code",
   "execution_count": 36,
   "metadata": {
    "ExecuteTime": {
     "end_time": "2023-12-25T19:57:12.891764Z",
     "start_time": "2023-12-25T19:57:11.695714Z"
    }
   },
   "outputs": [],
   "source": [
    "# Grouping the data by country (excluding United Kingdom) and summing\n",
    "# the quantity by each country\n",
    "# Saving it in a variable 'region_product_demand'\n",
    "\n",
    "region_product_demand = ext_data.groupby(ext_data['Country'][ext_data['Country'] != 'United Kingdom'])['Quantity'].sum()"
   ]
  },
  {
   "cell_type": "code",
   "execution_count": 37,
   "metadata": {
    "ExecuteTime": {
     "end_time": "2023-12-25T19:57:18.822258Z",
     "start_time": "2023-12-25T19:57:18.811897Z"
    }
   },
   "outputs": [
    {
     "data": {
      "text/plain": [
       "Country\n",
       "Saudi Arabia                80\n",
       "Bahrain                    260\n",
       "South Africa               352\n",
       "Brazil                     356\n",
       "Lebanon                    386\n",
       "European Community         499\n",
       "Lithuania                  652\n",
       "Czech Republic             671\n",
       "Malta                      970\n",
       "United Arab Emirates       982\n",
       "Greece                    1557\n",
       "Unspecified               1789\n",
       "USA                       2458\n",
       "Iceland                   2458\n",
       "Canada                    2763\n",
       "Poland                    3684\n",
       "Israel                    4046\n",
       "Austria                   4881\n",
       "Singapore                 5241\n",
       "Cyprus                    6361\n",
       "Italy                     8112\n",
       "Denmark                   8235\n",
       "Channel Islands           9491\n",
       "Finland                  10704\n",
       "Portugal                 16122\n",
       "Norway                   19338\n",
       "Belgium                  23237\n",
       "Japan                    26016\n",
       "Spain                    27951\n",
       "Switzerland              30083\n",
       "Sweden                   36083\n",
       "Australia                84209\n",
       "France                  111472\n",
       "Germany                 119263\n",
       "Ireland                 140525\n",
       "Netherlands             200937\n",
       "Name: Quantity, dtype: int64"
      ]
     },
     "execution_count": 37,
     "metadata": {},
     "output_type": "execute_result"
    }
   ],
   "source": [
    "# Sorting the 'region_product_demand' in ascending order (lowest to highest)\n",
    "# Saving it a variable 'sorted_region_product_demand'\n",
    "\n",
    "sorted_region_product_demand = region_product_demand.sort_values()\n",
    "sorted_region_product_demand"
   ]
  },
  {
   "cell_type": "code",
   "execution_count": 38,
   "metadata": {
    "ExecuteTime": {
     "end_time": "2023-12-25T19:57:25.821810Z",
     "start_time": "2023-12-25T19:57:25.817107Z"
    }
   },
   "outputs": [],
   "source": [
    "# saving the index of the series in 'sorted_region_product_demand' to 'x_region_demand' variable\n",
    "x_region_demand = sorted_region_product_demand.index\n",
    "\n",
    "# saving the values of the series in 'sorted_region_product_demand' to 'y_region_demand' variable\n",
    "y_region_demand = sorted_region_product_demand.values"
   ]
  },
  {
   "cell_type": "code",
   "execution_count": 39,
   "metadata": {
    "ExecuteTime": {
     "end_time": "2023-12-25T19:57:33.136166Z",
     "start_time": "2023-12-25T19:57:32.188177Z"
    },
    "scrolled": false
   },
   "outputs": [
    {
     "data": {
      "image/png": "[encoded data removed]",
      "text/plain": [
       "<Figure size 700x700 with 1 Axes>"
      ]
     },
     "metadata": {},
     "output_type": "display_data"
    }
   ],
   "source": [
    "# Setting the size of the chart\n",
    "fig = plt.figure(figsize = (7, 7))\n",
    "\n",
    "# plotting an horizontal bar chart\n",
    "plt.barh(x_region_demand, y_region_demand)\n",
    "\n",
    "# Customize the plot\n",
    "plt.xlabel('Product Quantity')\n",
    "plt.ylabel('Countries')\n",
    "plt.title('Products Demand by Country');"
   ]
  },
  {
   "cell_type": "markdown",
   "metadata": {},
   "source": [
    "**Insights:**\n",
    "- The Visual above shows how product demand varies by Country.\n",
    "- According to the chart above, the Netherlands has the highest demand for products, followed by Ireland, Germany, France, and Australia.\n",
    "- The chart also shows that Saudi Arabia has the lowest product demand, followed by Bahrain, Saudi Arabia, South Africa, Brazil, and Lebanon."
   ]
  },
  {
   "cell_type": "markdown",
   "metadata": {
    "ExecuteTime": {
     "end_time": "2023-12-22T02:53:16.210152Z",
     "start_time": "2023-12-22T02:53:16.195868Z"
    }
   },
   "source": [
    "<a id='rec'></a>\n",
    "## Recommendations\n",
    "> In this section, I will be highlighting the information that is most important to the executives. Also, I will highlight my recommendations based on the analysis\n",
    "\n",
    "**Key Insights**\n",
    "\n",
    "The following are the key insights according to the whole analysis:\n",
    "- The revenue trend between months is inconsistent.\n",
    "- The revenue increased steadily from August to November but then sharply declined in December, going from over a million dollars in November to just a little over half a million dollars in December. This is concerning, and the reason for the sharp decline in revenue has to be investigated.\n",
    "- Among the top 10 revenue-generating countries, Japan is the country with the lowest revenue, while Belgium has the lowest quantity sold.\n",
    "- Also among the top 10 revenue-generating countries, the Netherlands is the country that generates the highest revenue and has the largest sales volume.\n",
    "- Among the top 10 customers by revenue, the Customer with the ID '14646' generates the highest revenue.\n",
    "- Also, among the top 10 customers by revenue, the Customer with the ID '12346' generates the least revenue.\n",
    "- The Netherlands has the highest demand for products, followed by Ireland, Germany, France, and Australia.\n",
    "- Saudi Arabia has the lowest product demand, followed by Bahrain, Saudi Arabia, South Africa, Brazil, and Lebanon.\n",
    "\n",
    "**Recommendations**\n",
    "\n",
    "It is clear that the priorities of the executives' are expansion, i.e. identifying where the most profitable prospects are in their business, as well as targeting the higher revenue generating customers and ensuring that they remain delighted with their products. **The following are some recommendations based on the executives' priorities:**\n",
    "- Executives should take into consideration countries like the Netherlands, Ireland, Germany, France, and Australia when launching the company's expansion strategy, since these countries consistently rank in the top 5 in terms of revenue generation and product demand.\n",
    "- Spain, Switzerland, Belgium, Sweden, and Japan are other countries that made the top 10 list in terms of revenue generation and product demand, and they should be taken into consideration while launching the company's expansion strategy.\n",
    "- The top 10  customers in terms of revenue generation are those with IDs 14646, 18102, 17450, 16446, 14911, 12415, 14156, 17511, 16029, and 12346. These are customers that the company needs to keep satisfied with its products.\n",
    "- The sudden decline in revenue from November to December needs to be investigated and make necessary decision on, also the rapid increase in revenue from August to September needs to be studied."
   ]
  }
 ],
 "metadata": {
  "colab": {
   "provenance": []
  },
  "kernelspec": {
   "display_name": "Python 3 (ipykernel)",
   "language": "python",
   "name": "python3"
  },
  "language_info": {
   "codemirror_mode": {
    "name": "ipython",
    "version": 3
   },
   "file_extension": ".py",
   "mimetype": "text/x-python",
   "name": "python",
   "nbconvert_exporter": "python",
   "pygments_lexer": "ipython3",
   "version": "3.11.5"
  },
  "toc": {
   "base_numbering": 1,
   "nav_menu": {
    "height": "252px",
    "width": "387px"
   },
   "number_sections": true,
   "sideBar": true,
   "skip_h1_title": false,
   "title_cell": "Table of Contents",
   "title_sidebar": "Contents",
   "toc_cell": false,
   "toc_position": {},
   "toc_section_display": true,
   "toc_window_display": false
  },
  "varInspector": {
   "cols": {
    "lenName": 16,
    "lenType": 16,
    "lenVar": 40
   },
   "kernels_config": {
    "python": {
     "delete_cmd_postfix": "",
     "delete_cmd_prefix": "del ",
     "library": "var_list.py",
     "varRefreshCmd": "print(var_dic_list())"
    },
    "r": {
     "delete_cmd_postfix": ") ",
     "delete_cmd_prefix": "rm(",
     "library": "var_list.r",
     "varRefreshCmd": "cat(var_dic_list()) "
    }
   },
   "types_to_exclude": [
    "module",
    "function",
    "builtin_function_or_method",
    "instance",
    "_Feature"
   ],
   "window_display": false
  }
 },
 "nbformat": 4,
 "nbformat_minor": 1
}
